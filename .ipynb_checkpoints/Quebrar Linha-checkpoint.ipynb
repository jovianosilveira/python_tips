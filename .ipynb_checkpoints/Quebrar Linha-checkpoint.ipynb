{
 "cells": [
  {
   "cell_type": "code",
   "execution_count": 1,
   "metadata": {},
   "outputs": [
    {
     "name": "stdout",
     "output_type": "stream",
     "text": [
      "joviano \n",
      " é \n",
      " legal\n"
     ]
    }
   ],
   "source": [
    "print('joviano \\n é \\n legal')"
   ]
  },
  {
   "cell_type": "code",
   "execution_count": 3,
   "metadata": {},
   "outputs": [
    {
     "name": "stdout",
     "output_type": "stream",
     "text": [
      "joviano\n",
      "é\n",
      "legal\n"
     ]
    }
   ],
   "source": [
    "print('joviano\\né\\nlegal')"
   ]
  },
  {
   "cell_type": "code",
   "execution_count": 4,
   "metadata": {},
   "outputs": [
    {
     "name": "stdout",
     "output_type": "stream",
     "text": [
      "===iniciando codigo=== \n",
      "\n",
      "\n",
      "3 linhas \n",
      "\n",
      "\n",
      "===final codigo===\n"
     ]
    }
   ],
   "source": [
    "print('===iniciando codigo=== \\n\\n\\n3 linhas \\n\\n\\n===final codigo===')"
   ]
  },
  {
   "cell_type": "code",
   "execution_count": null,
   "metadata": {},
   "outputs": [],
   "source": []
  }
 ],
 "metadata": {
  "kernelspec": {
   "display_name": "Python 3",
   "language": "python",
   "name": "python3"
  },
  "language_info": {
   "codemirror_mode": {
    "name": "ipython",
    "version": 3
   },
   "file_extension": ".py",
   "mimetype": "text/x-python",
   "name": "python",
   "nbconvert_exporter": "python",
   "pygments_lexer": "ipython3",
   "version": "3.7.4"
  }
 },
 "nbformat": 4,
 "nbformat_minor": 2
}
