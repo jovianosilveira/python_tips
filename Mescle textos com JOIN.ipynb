{
 "cells": [
  {
   "cell_type": "markdown",
   "metadata": {},
   "source": [
    "### Exemplos"
   ]
  },
  {
   "cell_type": "code",
   "execution_count": 1,
   "metadata": {},
   "outputs": [],
   "source": [
    "nome = 'Joviano'\n",
    "sobrenome = 'Silveira'"
   ]
  },
  {
   "cell_type": "code",
   "execution_count": 2,
   "metadata": {},
   "outputs": [
    {
     "data": {
      "text/plain": [
       "'Joviano Silveira'"
      ]
     },
     "execution_count": 2,
     "metadata": {},
     "output_type": "execute_result"
    }
   ],
   "source": [
    "# Faça isso só quando for coisa rápida, que não exija performance\n",
    "nome +' '+ sobrenome"
   ]
  },
  {
   "cell_type": "code",
   "execution_count": 3,
   "metadata": {},
   "outputs": [],
   "source": [
    "nome_composto = ['marisa', 'isabel', 'santos', 'alcantara', 'viana']"
   ]
  },
  {
   "cell_type": "code",
   "execution_count": 4,
   "metadata": {},
   "outputs": [
    {
     "name": "stdout",
     "output_type": "stream",
     "text": [
      " marisa\n",
      " marisa isabel\n",
      " marisa isabel santos\n",
      " marisa isabel santos alcantara\n",
      " marisa isabel santos alcantara viana\n"
     ]
    }
   ],
   "source": [
    "# metodo 1 -->> menos performatico\n",
    "nome_completo = ''\n",
    "for nome in nome_composto:\n",
    "    nome_completo = nome_completo + ' ' + nome\n",
    "    print(nome_completo)"
   ]
  },
  {
   "cell_type": "code",
   "execution_count": 5,
   "metadata": {},
   "outputs": [
    {
     "data": {
      "text/plain": [
       "'marisa isabel santos alcantara viana'"
      ]
     },
     "execution_count": 5,
     "metadata": {},
     "output_type": "execute_result"
    }
   ],
   "source": [
    "# metodo 2 -->> mais simples e performatico\n",
    "' '.join(nome_composto)"
   ]
  },
  {
   "cell_type": "markdown",
   "metadata": {},
   "source": [
    "### Testar"
   ]
  },
  {
   "cell_type": "code",
   "execution_count": 6,
   "metadata": {},
   "outputs": [],
   "source": [
    "import numpy as np\n",
    "import datetime"
   ]
  },
  {
   "cell_type": "markdown",
   "metadata": {},
   "source": [
    "vou gerar a lista antes do loop, para isolar os resultados de medição de tempos"
   ]
  },
  {
   "cell_type": "code",
   "execution_count": 7,
   "metadata": {},
   "outputs": [],
   "source": [
    "lista = np.arange(50000)\n",
    "lista = [str(_) for _ in lista]"
   ]
  },
  {
   "cell_type": "code",
   "execution_count": 8,
   "metadata": {},
   "outputs": [
    {
     "name": "stdout",
     "output_type": "stream",
     "text": [
      "Tempo por Loop: 0:00:00.000006\n",
      "Tempo Total: 0:00:00.288191\n",
      "Variavel: 288890 caracteres\n"
     ]
    }
   ],
   "source": [
    "# Teste com FOR\n",
    "\n",
    "dh_ini = datetime.datetime.now()\n",
    "\n",
    "textao = ''\n",
    "for item in lista:\n",
    "    textao = textao +' '+ str(item)\n",
    "    \n",
    "dh_fim = datetime.datetime.now()\n",
    "dh_delta_for = dh_fim - dh_ini\n",
    "tempo_loop_for = dh_delta_for / len(lista)\n",
    "\n",
    "print('Tempo por Loop:',tempo_loop_for)\n",
    "print('Tempo Total:',dh_delta_for)\n",
    "print('Variavel:',len(textao),'caracteres')"
   ]
  },
  {
   "cell_type": "code",
   "execution_count": 9,
   "metadata": {},
   "outputs": [
    {
     "name": "stdout",
     "output_type": "stream",
     "text": [
      "Tempo por Loop: 0:00:00\n",
      "Tempo Total: 0:00:00.000981\n",
      "Variavel: 288890 caracteres\n"
     ]
    }
   ],
   "source": [
    "# Teste com JOIN\n",
    "dh_ini = datetime.datetime.now()\n",
    "\n",
    "' '.join(lista)\n",
    "    \n",
    "dh_fim = datetime.datetime.now()\n",
    "dh_delta_join = dh_fim - dh_ini\n",
    "tempo_loop_join = dh_delta_join / len(lista)\n",
    "\n",
    "print('Tempo por Loop:',tempo_loop_join)\n",
    "print('Tempo Total:',dh_delta_join)\n",
    "print('Variavel:',len(textao),'caracteres')"
   ]
  },
  {
   "cell_type": "code",
   "execution_count": 10,
   "metadata": {},
   "outputs": [
    {
     "name": "stdout",
     "output_type": "stream",
     "text": [
      "Diferença tempo Total 0:00:00.287210\n",
      "Diferença tempo percentual  34.04\n",
      "Diferença tempo por loop 0:00:00.000006\n"
     ]
    }
   ],
   "source": [
    "print('Diferença tempo Total',dh_delta_for - dh_delta_join)\n",
    "print('Diferença tempo percentual ', round( dh_delta_join.total_seconds()*100 / dh_delta_for.total_seconds()*100 ,2) )\n",
    "print('Diferença tempo por loop', (dh_delta_for - dh_delta_join) / len(lista) )"
   ]
  },
  {
   "cell_type": "markdown",
   "metadata": {},
   "source": [
    "#### Ao testar voces vão ver variar muito esse percentual, mas nunca há vantagem do LOOP"
   ]
  },
  {
   "cell_type": "code",
   "execution_count": null,
   "metadata": {},
   "outputs": [],
   "source": []
  }
 ],
 "metadata": {
  "kernelspec": {
   "display_name": "Python 3",
   "language": "python",
   "name": "python3"
  },
  "language_info": {
   "codemirror_mode": {
    "name": "ipython",
    "version": 3
   },
   "file_extension": ".py",
   "mimetype": "text/x-python",
   "name": "python",
   "nbconvert_exporter": "python",
   "pygments_lexer": "ipython3",
   "version": "3.7.4"
  }
 },
 "nbformat": 4,
 "nbformat_minor": 2
}
