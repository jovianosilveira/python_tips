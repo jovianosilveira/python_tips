{
 "cells": [
  {
   "cell_type": "markdown",
   "metadata": {},
   "source": [
    "# Converter texto para UTF-8"
   ]
  },
  {
   "cell_type": "markdown",
   "metadata": {},
   "source": [
    "### Testes no string"
   ]
  },
  {
   "cell_type": "code",
   "execution_count": 1,
   "metadata": {},
   "outputs": [],
   "source": [
    "city = 'Ribeir\\xc3\\xa3o Preto'"
   ]
  },
  {
   "cell_type": "code",
   "execution_count": 2,
   "metadata": {},
   "outputs": [
    {
     "data": {
      "text/plain": [
       "'Ribeirão Preto'"
      ]
     },
     "execution_count": 2,
     "metadata": {},
     "output_type": "execute_result"
    }
   ],
   "source": [
    "city.encode('cp1252').decode('utf-8')"
   ]
  },
  {
   "cell_type": "code",
   "execution_count": 3,
   "metadata": {},
   "outputs": [],
   "source": [
    "nome = 'josé'"
   ]
  },
  {
   "cell_type": "code",
   "execution_count": 4,
   "metadata": {},
   "outputs": [],
   "source": [
    "def conv(texto):\n",
    "    try: \n",
    "        out = texto.encode('cp1252').decode('utf-8')\n",
    "    except:\n",
    "        out = texto\n",
    "    return out"
   ]
  },
  {
   "cell_type": "code",
   "execution_count": 5,
   "metadata": {},
   "outputs": [
    {
     "data": {
      "text/plain": [
       "'Ribeirão Preto'"
      ]
     },
     "execution_count": 5,
     "metadata": {},
     "output_type": "execute_result"
    }
   ],
   "source": [
    "conv(city)"
   ]
  },
  {
   "cell_type": "code",
   "execution_count": 6,
   "metadata": {},
   "outputs": [
    {
     "data": {
      "text/plain": [
       "'josé'"
      ]
     },
     "execution_count": 6,
     "metadata": {},
     "output_type": "execute_result"
    }
   ],
   "source": [
    "conv(nome)"
   ]
  },
  {
   "cell_type": "markdown",
   "metadata": {},
   "source": [
    "### Testes no DataFrame"
   ]
  },
  {
   "cell_type": "code",
   "execution_count": 7,
   "metadata": {},
   "outputs": [],
   "source": [
    "import pandas as pd"
   ]
  },
  {
   "cell_type": "code",
   "execution_count": 8,
   "metadata": {},
   "outputs": [],
   "source": [
    "data = {\n",
    "    'A': [0, 1, 2,3,4,5,6,7,8,9], \n",
    "    'B': [\n",
    "            'MÃ¡quina de lavar',\n",
    "            'porque e muito bom e nÃ£o quebra com nada', \n",
    "            'Produtos com designer inovador, simples de usar, acessÃ­vel no bolso do consumidor porÃ©m tens algumas coisas que poderiam melhorar em questÃ£o de vedaÃ§Ã£o e elÃ©trica.', \n",
    "            'Empresa boa para se trabalhar, boas promoÃ§oes, mercadorias entregues rapidamente.',\n",
    "            'porque o produto e muito bom e tem um preÃ§o bem competitivo no mercado, o que faz a diferenca, alem de nÃ£o dar assistÃªncia pelo produto ser bom ',\n",
    "            'estÃ£o de parabÃ©ns pelo belo antedimento que fornecem a nos logistas!',\n",
    "            'Porque tem Ã³timos produtos.',\n",
    "            'nÃ£o recomendo',\n",
    "            'Porque nÃ£o tenho reclamaÃ§Ãµes',\n",
    "            '10-Qualidade e atenÃ§Ã£o especial com assistÃªncia.']\n",
    "}"
   ]
  },
  {
   "cell_type": "code",
   "execution_count": 9,
   "metadata": {},
   "outputs": [
    {
     "data": {
      "text/html": [
       "<div>\n",
       "<style scoped>\n",
       "    .dataframe tbody tr th:only-of-type {\n",
       "        vertical-align: middle;\n",
       "    }\n",
       "\n",
       "    .dataframe tbody tr th {\n",
       "        vertical-align: top;\n",
       "    }\n",
       "\n",
       "    .dataframe thead th {\n",
       "        text-align: right;\n",
       "    }\n",
       "</style>\n",
       "<table border=\"1\" class=\"dataframe\">\n",
       "  <thead>\n",
       "    <tr style=\"text-align: right;\">\n",
       "      <th></th>\n",
       "      <th>A</th>\n",
       "      <th>B</th>\n",
       "    </tr>\n",
       "  </thead>\n",
       "  <tbody>\n",
       "    <tr>\n",
       "      <th>0</th>\n",
       "      <td>0</td>\n",
       "      <td>MÃ¡quina de lavar</td>\n",
       "    </tr>\n",
       "    <tr>\n",
       "      <th>1</th>\n",
       "      <td>1</td>\n",
       "      <td>porque e muito bom e nÃ£o quebra com nada</td>\n",
       "    </tr>\n",
       "    <tr>\n",
       "      <th>2</th>\n",
       "      <td>2</td>\n",
       "      <td>Produtos com designer inovador, simples de usa...</td>\n",
       "    </tr>\n",
       "    <tr>\n",
       "      <th>3</th>\n",
       "      <td>3</td>\n",
       "      <td>Empresa boa para se trabalhar, boas promoÃ§oes...</td>\n",
       "    </tr>\n",
       "    <tr>\n",
       "      <th>4</th>\n",
       "      <td>4</td>\n",
       "      <td>porque o produto e muito bom e tem um preÃ§o b...</td>\n",
       "    </tr>\n",
       "    <tr>\n",
       "      <th>5</th>\n",
       "      <td>5</td>\n",
       "      <td>estÃ£o de parabÃ©ns pelo belo antedimento que ...</td>\n",
       "    </tr>\n",
       "    <tr>\n",
       "      <th>6</th>\n",
       "      <td>6</td>\n",
       "      <td>Porque tem Ã³timos produtos.</td>\n",
       "    </tr>\n",
       "    <tr>\n",
       "      <th>7</th>\n",
       "      <td>7</td>\n",
       "      <td>nÃ£o recomendo</td>\n",
       "    </tr>\n",
       "    <tr>\n",
       "      <th>8</th>\n",
       "      <td>8</td>\n",
       "      <td>Porque nÃ£o tenho reclamaÃ§Ãµes</td>\n",
       "    </tr>\n",
       "    <tr>\n",
       "      <th>9</th>\n",
       "      <td>9</td>\n",
       "      <td>10-Qualidade e atenÃ§Ã£o especial com assistÃª...</td>\n",
       "    </tr>\n",
       "  </tbody>\n",
       "</table>\n",
       "</div>"
      ],
      "text/plain": [
       "   A                                                  B\n",
       "0  0                                  MÃ¡quina de lavar\n",
       "1  1          porque e muito bom e nÃ£o quebra com nada\n",
       "2  2  Produtos com designer inovador, simples de usa...\n",
       "3  3  Empresa boa para se trabalhar, boas promoÃ§oes...\n",
       "4  4  porque o produto e muito bom e tem um preÃ§o b...\n",
       "5  5  estÃ£o de parabÃ©ns pelo belo antedimento que ...\n",
       "6  6                       Porque tem Ã³timos produtos.\n",
       "7  7                                     nÃ£o recomendo\n",
       "8  8                    Porque nÃ£o tenho reclamaÃ§Ãµes\n",
       "9  9  10-Qualidade e atenÃ§Ã£o especial com assistÃª..."
      ]
     },
     "execution_count": 9,
     "metadata": {},
     "output_type": "execute_result"
    }
   ],
   "source": [
    "df = pd.DataFrame.from_dict(data)\n",
    "df"
   ]
  },
  {
   "cell_type": "code",
   "execution_count": 10,
   "metadata": {},
   "outputs": [
    {
     "data": {
      "text/html": [
       "<div>\n",
       "<style scoped>\n",
       "    .dataframe tbody tr th:only-of-type {\n",
       "        vertical-align: middle;\n",
       "    }\n",
       "\n",
       "    .dataframe tbody tr th {\n",
       "        vertical-align: top;\n",
       "    }\n",
       "\n",
       "    .dataframe thead th {\n",
       "        text-align: right;\n",
       "    }\n",
       "</style>\n",
       "<table border=\"1\" class=\"dataframe\">\n",
       "  <thead>\n",
       "    <tr style=\"text-align: right;\">\n",
       "      <th></th>\n",
       "      <th>A</th>\n",
       "      <th>B</th>\n",
       "      <th>C</th>\n",
       "    </tr>\n",
       "  </thead>\n",
       "  <tbody>\n",
       "    <tr>\n",
       "      <th>0</th>\n",
       "      <td>0</td>\n",
       "      <td>MÃ¡quina de lavar</td>\n",
       "      <td>Máquina de lavar</td>\n",
       "    </tr>\n",
       "    <tr>\n",
       "      <th>1</th>\n",
       "      <td>1</td>\n",
       "      <td>porque e muito bom e nÃ£o quebra com nada</td>\n",
       "      <td>porque e muito bom e não quebra com nada</td>\n",
       "    </tr>\n",
       "    <tr>\n",
       "      <th>2</th>\n",
       "      <td>2</td>\n",
       "      <td>Produtos com designer inovador, simples de usa...</td>\n",
       "      <td>Produtos com designer inovador, simples de usa...</td>\n",
       "    </tr>\n",
       "    <tr>\n",
       "      <th>3</th>\n",
       "      <td>3</td>\n",
       "      <td>Empresa boa para se trabalhar, boas promoÃ§oes...</td>\n",
       "      <td>Empresa boa para se trabalhar, boas promoçoes,...</td>\n",
       "    </tr>\n",
       "    <tr>\n",
       "      <th>4</th>\n",
       "      <td>4</td>\n",
       "      <td>porque o produto e muito bom e tem um preÃ§o b...</td>\n",
       "      <td>porque o produto e muito bom e tem um preço be...</td>\n",
       "    </tr>\n",
       "    <tr>\n",
       "      <th>5</th>\n",
       "      <td>5</td>\n",
       "      <td>estÃ£o de parabÃ©ns pelo belo antedimento que ...</td>\n",
       "      <td>estão de parabéns pelo belo antedimento que fo...</td>\n",
       "    </tr>\n",
       "    <tr>\n",
       "      <th>6</th>\n",
       "      <td>6</td>\n",
       "      <td>Porque tem Ã³timos produtos.</td>\n",
       "      <td>Porque tem ótimos produtos.</td>\n",
       "    </tr>\n",
       "    <tr>\n",
       "      <th>7</th>\n",
       "      <td>7</td>\n",
       "      <td>nÃ£o recomendo</td>\n",
       "      <td>não recomendo</td>\n",
       "    </tr>\n",
       "    <tr>\n",
       "      <th>8</th>\n",
       "      <td>8</td>\n",
       "      <td>Porque nÃ£o tenho reclamaÃ§Ãµes</td>\n",
       "      <td>Porque não tenho reclamações</td>\n",
       "    </tr>\n",
       "    <tr>\n",
       "      <th>9</th>\n",
       "      <td>9</td>\n",
       "      <td>10-Qualidade e atenÃ§Ã£o especial com assistÃª...</td>\n",
       "      <td>10-Qualidade e atenção especial com assistência.</td>\n",
       "    </tr>\n",
       "  </tbody>\n",
       "</table>\n",
       "</div>"
      ],
      "text/plain": [
       "   A                                                  B  \\\n",
       "0  0                                  MÃ¡quina de lavar   \n",
       "1  1          porque e muito bom e nÃ£o quebra com nada   \n",
       "2  2  Produtos com designer inovador, simples de usa...   \n",
       "3  3  Empresa boa para se trabalhar, boas promoÃ§oes...   \n",
       "4  4  porque o produto e muito bom e tem um preÃ§o b...   \n",
       "5  5  estÃ£o de parabÃ©ns pelo belo antedimento que ...   \n",
       "6  6                       Porque tem Ã³timos produtos.   \n",
       "7  7                                     nÃ£o recomendo   \n",
       "8  8                    Porque nÃ£o tenho reclamaÃ§Ãµes   \n",
       "9  9  10-Qualidade e atenÃ§Ã£o especial com assistÃª...   \n",
       "\n",
       "                                                   C  \n",
       "0                                   Máquina de lavar  \n",
       "1           porque e muito bom e não quebra com nada  \n",
       "2  Produtos com designer inovador, simples de usa...  \n",
       "3  Empresa boa para se trabalhar, boas promoçoes,...  \n",
       "4  porque o produto e muito bom e tem um preço be...  \n",
       "5  estão de parabéns pelo belo antedimento que fo...  \n",
       "6                        Porque tem ótimos produtos.  \n",
       "7                                      não recomendo  \n",
       "8                       Porque não tenho reclamações  \n",
       "9   10-Qualidade e atenção especial com assistência.  "
      ]
     },
     "execution_count": 10,
     "metadata": {},
     "output_type": "execute_result"
    }
   ],
   "source": [
    "df['C'] = df.apply(lambda x: conv(x['B']) , axis=1) \n",
    "df"
   ]
  },
  {
   "cell_type": "code",
   "execution_count": null,
   "metadata": {},
   "outputs": [],
   "source": []
  }
 ],
 "metadata": {
  "kernelspec": {
   "display_name": "Python 3",
   "language": "python",
   "name": "python3"
  },
  "language_info": {
   "codemirror_mode": {
    "name": "ipython",
    "version": 3
   },
   "file_extension": ".py",
   "mimetype": "text/x-python",
   "name": "python",
   "nbconvert_exporter": "python",
   "pygments_lexer": "ipython3",
   "version": "3.7.4"
  }
 },
 "nbformat": 4,
 "nbformat_minor": 2
}
