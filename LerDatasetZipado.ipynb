{
 "cells": [
  {
   "cell_type": "markdown",
   "metadata": {},
   "source": [
    "# Ler Dataset Zipado"
   ]
  },
  {
   "cell_type": "markdown",
   "metadata": {},
   "source": [
    "*by [JOVIANO SILVEIRA](https://www.joviano.com)*"
   ]
  },
  {
   "cell_type": "code",
   "execution_count": 1,
   "metadata": {},
   "outputs": [
    {
     "data": {
      "text/html": [
       "<div>\n",
       "<style scoped>\n",
       "    .dataframe tbody tr th:only-of-type {\n",
       "        vertical-align: middle;\n",
       "    }\n",
       "\n",
       "    .dataframe tbody tr th {\n",
       "        vertical-align: top;\n",
       "    }\n",
       "\n",
       "    .dataframe thead th {\n",
       "        text-align: right;\n",
       "    }\n",
       "</style>\n",
       "<table border=\"1\" class=\"dataframe\">\n",
       "  <thead>\n",
       "    <tr style=\"text-align: right;\">\n",
       "      <th></th>\n",
       "      <th>DataID</th>\n",
       "      <th>Valor</th>\n",
       "      <th>ClienteID</th>\n",
       "    </tr>\n",
       "  </thead>\n",
       "  <tbody>\n",
       "    <tr>\n",
       "      <th>0</th>\n",
       "      <td>2000-01-01 00:00:00.000</td>\n",
       "      <td>4.61</td>\n",
       "      <td>19</td>\n",
       "    </tr>\n",
       "    <tr>\n",
       "      <th>1</th>\n",
       "      <td>2000-01-01 01:50:26.880</td>\n",
       "      <td>2.93</td>\n",
       "      <td>94</td>\n",
       "    </tr>\n",
       "    <tr>\n",
       "      <th>2</th>\n",
       "      <td>2000-01-01 03:40:53.760</td>\n",
       "      <td>3.66</td>\n",
       "      <td>25</td>\n",
       "    </tr>\n",
       "    <tr>\n",
       "      <th>3</th>\n",
       "      <td>2000-01-01 05:31:20.640</td>\n",
       "      <td>7.85</td>\n",
       "      <td>91</td>\n",
       "    </tr>\n",
       "    <tr>\n",
       "      <th>4</th>\n",
       "      <td>2000-01-01 07:21:47.520</td>\n",
       "      <td>7.09</td>\n",
       "      <td>78</td>\n",
       "    </tr>\n",
       "    <tr>\n",
       "      <th>...</th>\n",
       "      <td>...</td>\n",
       "      <td>...</td>\n",
       "      <td>...</td>\n",
       "    </tr>\n",
       "    <tr>\n",
       "      <th>99993</th>\n",
       "      <td>2020-12-30 11:06:51.821</td>\n",
       "      <td>9.94</td>\n",
       "      <td>77</td>\n",
       "    </tr>\n",
       "    <tr>\n",
       "      <th>99994</th>\n",
       "      <td>2020-12-30 12:57:18.701</td>\n",
       "      <td>2.63</td>\n",
       "      <td>82</td>\n",
       "    </tr>\n",
       "    <tr>\n",
       "      <th>99995</th>\n",
       "      <td>2020-12-30 14:47:45.581</td>\n",
       "      <td>9.30</td>\n",
       "      <td>2</td>\n",
       "    </tr>\n",
       "    <tr>\n",
       "      <th>99996</th>\n",
       "      <td>2020-12-30 16:38:12.461</td>\n",
       "      <td>5.86</td>\n",
       "      <td>80</td>\n",
       "    </tr>\n",
       "    <tr>\n",
       "      <th>99997</th>\n",
       "      <td>2020-12-30 18:28:39.341</td>\n",
       "      <td>2.79</td>\n",
       "      <td>11</td>\n",
       "    </tr>\n",
       "  </tbody>\n",
       "</table>\n",
       "<p>99998 rows × 3 columns</p>\n",
       "</div>"
      ],
      "text/plain": [
       "                       DataID  Valor  ClienteID\n",
       "0     2000-01-01 00:00:00.000   4.61         19\n",
       "1     2000-01-01 01:50:26.880   2.93         94\n",
       "2     2000-01-01 03:40:53.760   3.66         25\n",
       "3     2000-01-01 05:31:20.640   7.85         91\n",
       "4     2000-01-01 07:21:47.520   7.09         78\n",
       "...                       ...    ...        ...\n",
       "99993 2020-12-30 11:06:51.821   9.94         77\n",
       "99994 2020-12-30 12:57:18.701   2.63         82\n",
       "99995 2020-12-30 14:47:45.581   9.30          2\n",
       "99996 2020-12-30 16:38:12.461   5.86         80\n",
       "99997 2020-12-30 18:28:39.341   2.79         11\n",
       "\n",
       "[99998 rows x 3 columns]"
      ]
     },
     "execution_count": 1,
     "metadata": {},
     "output_type": "execute_result"
    }
   ],
   "source": [
    "import pandas as pd\n",
    "import zipfile\n",
    "\n",
    "# Dataset zipado disponivel em\n",
    "# https://github.com/jovianosilveira/python_tips/raw/master/BasesDiversas/DatasetZipado.zip\n",
    "# No meu caso, coloquei numa subpasta denominada 'BasesDiversas', mas faça como lhe convir \n",
    "zf = zipfile.ZipFile('BasesDiversas\\DatasetZipado.zip') \n",
    "\n",
    "df = pd.read_excel(zf.open('teste.xlsx'))\n",
    "del(zf)\n",
    "df"
   ]
  },
  {
   "cell_type": "markdown",
   "metadata": {},
   "source": [
    "### Conheça meu trabalho\n",
    "\n",
    "<a href=\"https://www.joviano.com\">\n",
    "<img src=\"https://raw.githubusercontent.com/jovianosilveira/img/master/joviano-silveira-site-logo.png\" alt=\"joviano.com\" width=\"20%\">\n",
    "</a>\n",
    "\n",
    "<a href=\"https://www.youtube.com/jovianosilveira\">\n",
    "<img src=\"https://github.com/jovianosilveira/img/blob/master/joviano-silveira-youtube-logo.png?raw=true\" alt=\"joviano.com\" width=\"20%\">\n",
    "</a>\n",
    "\n",
    "<a href=\"http://www.linkedin.com/in/jovianosilveira\">\n",
    "<img src=\"https://github.com/jovianosilveira/img/blob/master/joviano-silveira-linkedin-logo.png?raw=true\" alt=\"joviano.com\" width=\"20%\">\n",
    "</a>\n",
    "\n",
    "<a href=\"https://www.instagram.com/jovi.silveira\">\n",
    "<img src=\"https://github.com/jovianosilveira/img/blob/master/joviano-silveira-instagram-logo.png?raw=true\" alt=\"joviano.com\" width=\"20%\">\n",
    "</a>\n",
    "\n",
    "<a href=\"https://www.facebook.com/jovi.silveira.cursos\">\n",
    "<img src=\"https://github.com/jovianosilveira/img/blob/master/joviano-silveira-facebook-logo.png?raw=true\" alt=\"joviano.com\" width=\"20%\">\n",
    "</a>"
   ]
  },
  {
   "cell_type": "markdown",
   "metadata": {},
   "source": [
    "### Conheça os cursos que fiz para você\n",
    "\n",
    "<a href=\"https://www.joviano.com/cursos-para-voce\">\n",
    "<img src=\"https://github.com/jovianosilveira/img/blob/master/joviano-silveira-cursos-logo.png?raw=true\" alt=\"joviano.com\" width=\"20%\">\n",
    "</a>"
   ]
  }
 ],
 "metadata": {
  "kernelspec": {
   "display_name": "Python 3",
   "language": "python",
   "name": "python3"
  },
  "language_info": {
   "codemirror_mode": {
    "name": "ipython",
    "version": 3
   },
   "file_extension": ".py",
   "mimetype": "text/x-python",
   "name": "python",
   "nbconvert_exporter": "python",
   "pygments_lexer": "ipython3",
   "version": "3.7.4"
  }
 },
 "nbformat": 4,
 "nbformat_minor": 2
}
