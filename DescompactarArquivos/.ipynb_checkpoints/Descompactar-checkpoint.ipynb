{
 "cells": [
  {
   "cell_type": "markdown",
   "metadata": {},
   "source": [
    "# Descompactar Arquivos"
   ]
  },
  {
   "cell_type": "markdown",
   "metadata": {},
   "source": [
    "*by [JOVIANO SILVEIRA](https://www.joviano.com)*"
   ]
  },
  {
   "cell_type": "markdown",
   "metadata": {},
   "source": [
    "## Metodo 1"
   ]
  },
  {
   "cell_type": "markdown",
   "metadata": {},
   "source": [
    "Nesse metodo os arquivos serão colocados em uma subpasta"
   ]
  },
  {
   "cell_type": "code",
   "execution_count": 2,
   "metadata": {},
   "outputs": [],
   "source": [
    "# importar biblioteca necessaria\n",
    "from zipfile import ZipFile\n",
    "\n",
    "# qual arquivo quero descompactar\n",
    "nome_arquivo = 'DatasetZipado.zip'\n",
    "\n",
    "# decompactando arquivo\n",
    "zf = ZipFile(nome_arquivo, 'r')\n",
    "\n",
    "# criando uma pasta com o nome do ZIP\n",
    "zf.extractall(nome_arquivo.rsplit('.', 1)[0])\n",
    "\n",
    "# fechando objeto\n",
    "zf.close()"
   ]
  },
  {
   "cell_type": "markdown",
   "metadata": {},
   "source": [
    "### Metodo 1.1"
   ]
  },
  {
   "cell_type": "code",
   "execution_count": 3,
   "metadata": {},
   "outputs": [],
   "source": [
    "# importar biblioteca necessaria\n",
    "from zipfile import ZipFile\n",
    "\n",
    "# qual arquivo quero descompactar\n",
    "nome_arquivo = 'DatasetZipado.zip'\n",
    "\n",
    "ZipFile(nome_arquivo).extractall(nome_arquivo.rsplit('.', 1)[0])"
   ]
  },
  {
   "cell_type": "markdown",
   "metadata": {},
   "source": [
    "ZipFile.extractall(path=None, members=None, pwd=None)\n",
    "pode-se perceber, que caso tenha senha, só passar a senha no parametro"
   ]
  },
  {
   "cell_type": "markdown",
   "metadata": {},
   "source": [
    "## Metodo 2"
   ]
  },
  {
   "cell_type": "markdown",
   "metadata": {},
   "source": [
    "Nesse metodo os arquivos do ZIP serão colocados na pasta raiz"
   ]
  },
  {
   "cell_type": "code",
   "execution_count": 4,
   "metadata": {},
   "outputs": [],
   "source": [
    "# importar biblioteca necessaria\n",
    "from zipfile import ZipFile\n",
    "\n",
    "# qual arquivo quero descompactar\n",
    "nome_arquivo = 'DatasetZipado.zip'\n",
    "\n",
    "# executar \n",
    "zip = ZipFile(nome_arquivo)\n",
    "zip.extractall()"
   ]
  },
  {
   "cell_type": "markdown",
   "metadata": {},
   "source": [
    "### Conheça meu trabalho\n",
    "\n",
    "<a href=\"https://www.joviano.com\">\n",
    "<img src=\"https://raw.githubusercontent.com/jovianosilveira/img/master/joviano-silveira-site-logo.png\" alt=\"joviano.com\" width=\"5%\">\n",
    "</a>\n",
    "\n",
    "<a href=\"https://www.youtube.com/jovianosilveira\">\n",
    "<img src=\"https://github.com/jovianosilveira/img/blob/master/joviano-silveira-youtube-logo.png?raw=true\" alt=\"joviano.com\" width=\"5%\">\n",
    "</a>\n",
    "\n",
    "<a href=\"http://www.linkedin.com/in/jovianosilveira\">\n",
    "<img src=\"https://github.com/jovianosilveira/img/blob/master/joviano-silveira-linkedin-logo.png?raw=true\" alt=\"joviano.com\" width=\"5%\">\n",
    "</a>\n",
    "\n",
    "<a href=\"https://www.instagram.com/jovi.silveira\">\n",
    "<img src=\"https://github.com/jovianosilveira/img/blob/master/joviano-silveira-instagram-logo.png?raw=true\" alt=\"joviano.com\" width=\"5%\">\n",
    "</a>\n",
    "\n",
    "<a href=\"https://www.facebook.com/jovi.silveira.cursos\">\n",
    "<img src=\"https://github.com/jovianosilveira/img/blob/master/joviano-silveira-facebook-logo.png?raw=true\" alt=\"joviano.com\" width=\"5%\">\n",
    "</a>\n"
   ]
  },
  {
   "cell_type": "markdown",
   "metadata": {},
   "source": [
    "### Conheça os cursos que fiz para você\n",
    "\n",
    "<a href=\"https://www.joviano.com/cursos-para-voce\">\n",
    "<img src=\"https://github.com/jovianosilveira/img/blob/master/joviano-silveira-cursos-logo.png?raw=true\" alt=\"joviano.com\" width=\"10%\">\n",
    "</a>"
   ]
  }
 ],
 "metadata": {
  "kernelspec": {
   "display_name": "Python 3",
   "language": "python",
   "name": "python3"
  },
  "language_info": {
   "codemirror_mode": {
    "name": "ipython",
    "version": 3
   },
   "file_extension": ".py",
   "mimetype": "text/x-python",
   "name": "python",
   "nbconvert_exporter": "python",
   "pygments_lexer": "ipython3",
   "version": "3.7.4"
  }
 },
 "nbformat": 4,
 "nbformat_minor": 2
}
