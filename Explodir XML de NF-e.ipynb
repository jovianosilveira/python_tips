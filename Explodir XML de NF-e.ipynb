{
 "cells": [
  {
   "cell_type": "code",
   "execution_count": 1,
   "metadata": {},
   "outputs": [],
   "source": [
    "import xmltodict\n",
    "\n",
    "with open('MeuXmlTeste.xml') as fd:\n",
    "    doc = xmltodict.parse(fd.read())"
   ]
  },
  {
   "cell_type": "code",
   "execution_count": 2,
   "metadata": {},
   "outputs": [
    {
     "data": {
      "text/plain": [
       "OrderedDict([('cProd', 'M4407164'),\n",
       "             ('cEAN', '7893299912450'),\n",
       "             ('xProd', 'EVAP LG 9000 F COMPACT INV 220 S4NQ09WA5'),\n",
       "             ('NCM', '84151011'),\n",
       "             ('CFOP', '5929'),\n",
       "             ('uCom', 'UN'),\n",
       "             ('qCom', '1.0000'),\n",
       "             ('vUnCom', '543.6600000000'),\n",
       "             ('vProd', '543.66'),\n",
       "             ('cEANTrib', '7893299912450'),\n",
       "             ('uTrib', 'UN'),\n",
       "             ('qTrib', '1.0000'),\n",
       "             ('vUnTrib', '543.6600000000'),\n",
       "             ('indTot', '1')])"
      ]
     },
     "execution_count": 2,
     "metadata": {},
     "output_type": "execute_result"
    }
   ],
   "source": [
    "# navegar até o TAG de produto\n",
    "# pegar informação do primeoro produto (indice 0)\n",
    "\n",
    "doc['nfeProc']['NFe']['infNFe']['det'][0]['prod']"
   ]
  },
  {
   "cell_type": "code",
   "execution_count": null,
   "metadata": {},
   "outputs": [],
   "source": []
  }
 ],
 "metadata": {
  "kernelspec": {
   "display_name": "Python 3",
   "language": "python",
   "name": "python3"
  },
  "language_info": {
   "codemirror_mode": {
    "name": "ipython",
    "version": 3
   },
   "file_extension": ".py",
   "mimetype": "text/x-python",
   "name": "python",
   "nbconvert_exporter": "python",
   "pygments_lexer": "ipython3",
   "version": "3.7.4"
  }
 },
 "nbformat": 4,
 "nbformat_minor": 2
}
